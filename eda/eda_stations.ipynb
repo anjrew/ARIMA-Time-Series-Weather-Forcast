{
 "cells": [
  {
   "cell_type": "code",
   "execution_count": 1,
   "metadata": {},
   "outputs": [],
   "source": [
    "import pandas as pd"
   ]
  },
  {
   "cell_type": "code",
   "execution_count": 27,
   "metadata": {},
   "outputs": [
    {
     "data": {
      "text/html": [
       "<div>\n",
       "<style scoped>\n",
       "    .dataframe tbody tr th:only-of-type {\n",
       "        vertical-align: middle;\n",
       "    }\n",
       "\n",
       "    .dataframe tbody tr th {\n",
       "        vertical-align: top;\n",
       "    }\n",
       "\n",
       "    .dataframe thead th {\n",
       "        text-align: right;\n",
       "    }\n",
       "</style>\n",
       "<table border=\"1\" class=\"dataframe\">\n",
       "  <thead>\n",
       "    <tr style=\"text-align: right;\">\n",
       "      <th></th>\n",
       "      <th>STANAME</th>\n",
       "      <th>CN</th>\n",
       "      <th>LAT</th>\n",
       "      <th>LON</th>\n",
       "      <th>HGHT</th>\n",
       "    </tr>\n",
       "    <tr>\n",
       "      <th>STAID</th>\n",
       "      <th></th>\n",
       "      <th></th>\n",
       "      <th></th>\n",
       "      <th></th>\n",
       "      <th></th>\n",
       "    </tr>\n",
       "  </thead>\n",
       "  <tbody>\n",
       "    <tr>\n",
       "      <th>2759</th>\n",
       "      <td>BERLIN-TEMPELHOF</td>\n",
       "      <td>DE</td>\n",
       "      <td>+52:28:07</td>\n",
       "      <td>+013:24:14</td>\n",
       "      <td>48</td>\n",
       "    </tr>\n",
       "    <tr>\n",
       "      <th>4533</th>\n",
       "      <td>BERLIN-DAHLEM (LFAG)</td>\n",
       "      <td>DE</td>\n",
       "      <td>+52:27:28</td>\n",
       "      <td>+013:18:05</td>\n",
       "      <td>55</td>\n",
       "    </tr>\n",
       "    <tr>\n",
       "      <th>4586</th>\n",
       "      <td>BERLIN-TREPTOW</td>\n",
       "      <td>DE</td>\n",
       "      <td>+52:27:24</td>\n",
       "      <td>+013:28:18</td>\n",
       "      <td>35</td>\n",
       "    </tr>\n",
       "  </tbody>\n",
       "</table>\n",
       "</div>"
      ],
      "text/plain": [
       "       STANAME                                   CN        LAT         LON  \\\n",
       "STAID                                                                        \n",
       "2759   BERLIN-TEMPELHOF                          DE  +52:28:07  +013:24:14   \n",
       "4533   BERLIN-DAHLEM (LFAG)                      DE  +52:27:28  +013:18:05   \n",
       "4586   BERLIN-TREPTOW                            DE  +52:27:24  +013:28:18   \n",
       "\n",
       "       HGHT  \n",
       "STAID        \n",
       "2759     48  \n",
       "4533     55  \n",
       "4586     35  "
      ]
     },
     "execution_count": 27,
     "metadata": {},
     "output_type": "execute_result"
    }
   ],
   "source": [
    "stations =  pd.read_csv('../data/stations.txt', header=13, index_col='STAID')\n",
    "stations"
   ]
  },
  {
   "cell_type": "code",
   "execution_count": null,
   "metadata": {},
   "outputs": [],
   "source": []
  }
 ],
 "metadata": {
  "kernelspec": {
   "display_name": "Python 3.7.7 ('virtual_workspace')",
   "language": "python",
   "name": "python3"
  },
  "language_info": {
   "codemirror_mode": {
    "name": "ipython",
    "version": 3
   },
   "file_extension": ".py",
   "mimetype": "text/x-python",
   "name": "python",
   "nbconvert_exporter": "python",
   "pygments_lexer": "ipython3",
   "version": "3.7.7 (default, Mar 26 2020, 10:32:53) \n[Clang 4.0.1 (tags/RELEASE_401/final)]"
  },
  "orig_nbformat": 4,
  "vscode": {
   "interpreter": {
    "hash": "75c4c1273c1ec675291871465e6c928c32ef9a8353c12a16460edf1bc1143f9d"
   }
  }
 },
 "nbformat": 4,
 "nbformat_minor": 2
}
