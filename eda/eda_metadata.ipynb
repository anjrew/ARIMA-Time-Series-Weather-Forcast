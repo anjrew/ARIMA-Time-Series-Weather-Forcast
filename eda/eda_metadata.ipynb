{
 "cells": [
  {
   "cell_type": "markdown",
   "metadata": {},
   "source": [
    "# History\n",
    "\n",
    "Measuring times have changed from 20010401 onwards:\n",
    "  - Temperature, relative humidity: 0-24 UTC\n",
    "  - Cloud cover, windspeed, pressure and sunshine: 0-24 UTC\n",
    "  - Precipitation: 6 UTC until 6 UTC next day\n",
    "  - Snow cover: at 6 UTC\n",
    "\n",
    "Before 20010401:\n",
    "  - Temperature extremes: from 21:30 previous day until 21:30 CET\n",
    "  - Mean temperature: weighted average of 07:30, 14:30 and twice 21:30 CET\n",
    "  - Precipitation: morning today 07:30 CET until morning next day\n",
    "  - Cloud cover: average of 07:30, 14:30 and 21:30 CET\n",
    "  - Relative humidity: average of 07:30, 14:30 and 21:30 CET\n",
    "  - Pressure: average of 07:30, 14:30 and 21:30 CET\n",
    "  - Wind speed: average of 24 hourly means\n",
    "  - Sunshine: 00-24 CET\n",
    "  - Snow cover: at 7:30 CET\n"
   ]
  }
 ],
 "metadata": {
  "kernelspec": {
   "display_name": "Python 3.7.7 ('virtual_workspace')",
   "language": "python",
   "name": "python3"
  },
  "language_info": {
   "name": "python",
   "version": "3.7.7"
  },
  "orig_nbformat": 4,
  "vscode": {
   "interpreter": {
    "hash": "75c4c1273c1ec675291871465e6c928c32ef9a8353c12a16460edf1bc1143f9d"
   }
  }
 },
 "nbformat": 4,
 "nbformat_minor": 2
}
